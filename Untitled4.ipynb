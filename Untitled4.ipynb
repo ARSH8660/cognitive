{
  "nbformat": 4,
  "nbformat_minor": 0,
  "metadata": {
    "colab": {
      "provenance": [],
      "authorship_tag": "ABX9TyPdyl1pw8jNpK+D9K1PLwz0",
      "include_colab_link": true
    },
    "kernelspec": {
      "name": "python3",
      "display_name": "Python 3"
    },
    "language_info": {
      "name": "python"
    }
  },
  "cells": [
    {
      "cell_type": "markdown",
      "metadata": {
        "id": "view-in-github",
        "colab_type": "text"
      },
      "source": [
        "<a href=\"https://colab.research.google.com/github/ARSH8660/cognitive/blob/main/Untitled4.ipynb\" target=\"_parent\"><img src=\"https://colab.research.google.com/assets/colab-badge.svg\" alt=\"Open In Colab\"/></a>"
      ]
    },
    {
      "cell_type": "code",
      "execution_count": 1,
      "metadata": {
        "colab": {
          "base_uri": "https://localhost:8080/"
        },
        "id": "tqoeYHDr7Aon",
        "outputId": "9a041077-4f4c-4626-f28b-6496528d7012"
      },
      "outputs": [
        {
          "output_type": "stream",
          "name": "stdout",
          "text": [
            "List after adding elements: [10, 20, 30, 40, 50, 60, 70, 80, 200, 300]\n",
            "List after removing elements: [20, 40, 50, 60, 70, 80, 200, 300]\n",
            "List sorted in ascending order: [20, 40, 50, 60, 70, 80, 200, 300]\n",
            "List sorted in descending order: [300, 200, 80, 70, 60, 50, 40, 20]\n",
            "Highest score and its index: 92 5\n",
            "Lowest score and count: 45 2\n",
            "Reversed tuple as list: [45, 58, 92, 89, 45.4, 76, 89.5, 45]\n",
            "Enter a score to check: 5\n",
            "Score not present in tuple\n",
            "Odd numbers: [761, 847, 477, 223, 159, 163, 437, 639, 823, 581, 149, 449, 289, 167, 407, 683, 813, 117, 301, 181, 843, 537, 633, 443, 201, 235, 753, 765, 553, 653, 581, 571, 863, 455, 747, 821, 131, 607, 749, 163, 277, 607, 387, 533, 789, 333, 205, 819, 563, 705]\n",
            "Even numbers: [516, 836, 206, 748, 502, 554, 196, 390, 382, 478, 732, 346, 748, 570, 416, 160, 368, 810, 574, 424, 332, 400, 250, 430, 400, 862, 240, 734, 214, 246, 896, 560, 466, 694, 148, 624, 106, 204, 220, 516, 372, 526, 416, 690, 562, 790, 482, 746, 282, 442]\n",
            "Prime numbers: [761, 223, 163, 823, 149, 449, 167, 683, 181, 443, 653, 571, 863, 821, 131, 607, 163, 277, 607, 563]\n",
            "Unique scores (union): {34, 45, 78, 23, 56, 90}\n",
            "Common scores (intersection): {90, 78}\n",
            "Exclusive scores (symmetric difference): {34, 45, 23, 56}\n",
            "A is subset of B: False\n",
            "B is superset of A: False\n",
            "Enter a score to remove from A: 3\n",
            "Score not present in A\n",
            "Updated dictionary: {'country': 'USA', 'population': 8419000, 'location': 'New York'}\n"
          ]
        }
      ],
      "source": [
        " #assignment 2 !!\n",
        "import numpy as np\n",
        "import random\n",
        "\n",
        "L = [10, 20, 30, 40, 50, 60, 70, 80]\n",
        "L.extend([200, 300])\n",
        "print(\"List after adding elements:\", L)\n",
        "\n",
        "L.remove(10)\n",
        "L.remove(30)\n",
        "print(\"List after removing elements:\", L)\n",
        "\n",
        "L.sort()\n",
        "print(\"List sorted in ascending order:\", L)\n",
        "\n",
        "L.sort(reverse=True)\n",
        "print(\"List sorted in descending order:\", L)\n",
        "\n",
        "scores = (45, 89.5, 76, 45.4, 89, 92, 58, 45)\n",
        "highest_score = max(scores)\n",
        "highest_index = scores.index(highest_score)\n",
        "print(\"Highest score and its index:\", highest_score, highest_index)\n",
        "\n",
        "lowest_score = min(scores)\n",
        "lowest_count = scores.count(lowest_score)\n",
        "print(\"Lowest score and count:\", lowest_score, lowest_count)\n",
        "\n",
        "reversed_scores = list(reversed(scores))\n",
        "print(\"Reversed tuple as list:\", reversed_scores)\n",
        "\n",
        "user_score = int(input(\"Enter a score to check: \"))\n",
        "if user_score in scores:\n",
        "    print(\"Score found at index:\", scores.index(user_score))\n",
        "else:\n",
        "    print(\"Score not present in tuple\")\n",
        "\n",
        "random_numbers = [random.randint(100, 900) for _ in range(100)]\n",
        "odds = [num for num in random_numbers if num % 2 != 0]\n",
        "evens = [num for num in random_numbers if num % 2 == 0]\n",
        "primes = [num for num in random_numbers if num > 1 and all(num % i != 0 for i in range(2, int(num ** 0.5) + 1))]\n",
        "print(\"Odd numbers:\", odds)\n",
        "print(\"Even numbers:\", evens)\n",
        "print(\"Prime numbers:\", primes)\n",
        "\n",
        "A = {34, 56, 78, 90}\n",
        "B = {78, 45, 90, 23}\n",
        "union_set = A | B\n",
        "print(\"Unique scores (union):\", union_set)\n",
        "\n",
        "intersection_set = A & B\n",
        "print(\"Common scores (intersection):\", intersection_set)\n",
        "\n",
        "symmetric_diff_set = A ^ B\n",
        "print(\"Exclusive scores (symmetric difference):\", symmetric_diff_set)\n",
        "\n",
        "is_subset = A.issubset(B)\n",
        "is_superset = B.issuperset(A)\n",
        "print(\"A is subset of B:\", is_subset)\n",
        "print(\"B is superset of A:\", is_superset)\n",
        "\n",
        "x = int(input(\"Enter a score to remove from A: \"))\n",
        "if x in A:\n",
        "    A.remove(x)\n",
        "    print(\"Updated set A:\", A)\n",
        "else:\n",
        "    print(\"Score not present in A\")\n",
        "\n",
        "dictionary = {\"city\": \"New York\", \"country\": \"USA\", \"population\": 8419000}\n",
        "dictionary[\"location\"] = dictionary.pop(\"city\")  # Assignment 2\n",
        "print(\"Updated dictionary:\", dictionary)\n"
      ]
    }
  ]
}